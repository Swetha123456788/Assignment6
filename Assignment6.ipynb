{
 "cells": [
  {
   "cell_type": "code",
   "execution_count": 21,
   "id": "6191f60c-240c-4686-8acb-85dc22598677",
   "metadata": {},
   "outputs": [
    {
     "name": "stdout",
     "output_type": "stream",
     "text": [
      "40\n"
     ]
    }
   ],
   "source": [
    "#Question 5\n",
    "num1=[5,3,4,2]\n",
    "num2=[4,2,2,5]\n",
    "num1.sort()\n",
    "num2.sort()\n",
    "n=len(num1)\n",
    "res=0\n",
    "for i in range(n):\n",
    "    res +=num1[i]*num2[n-i-1]\n",
    "print(res)"
   ]
  },
  {
   "cell_type": "code",
   "execution_count": 9,
   "id": "9e39404d-6391-4ad6-8f3a-0222167ef754",
   "metadata": {},
   "outputs": [
    {
     "name": "stdout",
     "output_type": "stream",
     "text": [
      "[7, 0, 0]\n",
      "[-7, 0, 3]\n"
     ]
    }
   ],
   "source": [
    "#Question 8\n",
    "A = [[1,0,0],[-1,0,3]]\n",
    "B = [[7,0,0],[0,0,0],[0,0,1]]\n",
    "O = [[0,0,0],[0,0,0]]\n",
    "for i in range(len(A)):\n",
    "    for j in range(len(B[0])):\n",
    "        for k in range(len(B)):\n",
    "            O[i][j] += A[i][k] * B[k][j]\n",
    "for r in O:\n",
    "    print(r)\n",
    "        "
   ]
  },
  {
   "cell_type": "code",
   "execution_count": null,
   "id": "35773162-8ab2-4d44-9e17-29297d369b44",
   "metadata": {},
   "outputs": [],
   "source": []
  }
 ],
 "metadata": {
  "kernelspec": {
   "display_name": "Python 3 (ipykernel)",
   "language": "python",
   "name": "python3"
  },
  "language_info": {
   "codemirror_mode": {
    "name": "ipython",
    "version": 3
   },
   "file_extension": ".py",
   "mimetype": "text/x-python",
   "name": "python",
   "nbconvert_exporter": "python",
   "pygments_lexer": "ipython3",
   "version": "3.10.6"
  }
 },
 "nbformat": 4,
 "nbformat_minor": 5
}
